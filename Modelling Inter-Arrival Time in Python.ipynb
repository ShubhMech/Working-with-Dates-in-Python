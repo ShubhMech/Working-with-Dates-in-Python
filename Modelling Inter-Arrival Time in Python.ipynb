{
 "cells": [
  {
   "cell_type": "code",
   "execution_count": null,
   "id": "07051b46-6cfd-4e98-9422-5aa088384a58",
   "metadata": {},
   "outputs": [],
   "source": []
  },
  {
   "cell_type": "code",
   "execution_count": 53,
   "id": "4768677f-bf8a-4a63-97a0-02b631f6df30",
   "metadata": {
    "scrolled": true,
    "tags": []
   },
   "outputs": [],
   "source": [
    "stocks_= pd.read_csv(path)"
   ]
  },
  {
   "cell_type": "code",
   "execution_count": null,
   "id": "ecc7ec87-638c-43c1-8bb0-bee61844c41e",
   "metadata": {
    "scrolled": true
   },
   "outputs": [],
   "source": []
  },
  {
   "cell_type": "code",
   "execution_count": 54,
   "id": "c6325e06-735c-4557-87b7-d5613e5904e5",
   "metadata": {
    "scrolled": true
   },
   "outputs": [
    {
     "data": {
      "text/plain": [
       "0        5\n",
       "1        6\n",
       "2        7\n",
       "3        8\n",
       "4        9\n",
       "        ..\n",
       "4009    30\n",
       "4010    30\n",
       "4011    30\n",
       "4012    30\n",
       "4013    30\n",
       "Name: Date Joined, Length: 4014, dtype: int64"
      ]
     },
     "execution_count": 54,
     "metadata": {},
     "output_type": "execute_result"
    }
   ],
   "source": [
    "pd.to_datetime(stocks_['Date Joined']).dt.day"
   ]
  },
  {
   "cell_type": "code",
   "execution_count": 55,
   "id": "240c63b3-f937-4dda-81db-62d23b51fad8",
   "metadata": {
    "scrolled": true
   },
   "outputs": [
    {
     "data": {
      "text/plain": [
       "0       2015\n",
       "1       2015\n",
       "2       2015\n",
       "3       2015\n",
       "4       2015\n",
       "        ... \n",
       "4009    2015\n",
       "4010    2015\n",
       "4011    2015\n",
       "4012    2015\n",
       "4013    2015\n",
       "Name: Date Joined, Length: 4014, dtype: int64"
      ]
     },
     "execution_count": 55,
     "metadata": {},
     "output_type": "execute_result"
    }
   ],
   "source": [
    "pd.to_datetime(stocks_['Date Joined']).dt.year"
   ]
  },
  {
   "cell_type": "code",
   "execution_count": 56,
   "id": "5969c9f2-3310-42b0-9e8d-e648fbea78d7",
   "metadata": {
    "scrolled": true
   },
   "outputs": [
    {
     "data": {
      "text/plain": [
       "0        1\n",
       "1        1\n",
       "2        1\n",
       "3        1\n",
       "4        1\n",
       "        ..\n",
       "4009    12\n",
       "4010    12\n",
       "4011    12\n",
       "4012    12\n",
       "4013    12\n",
       "Name: Date Joined, Length: 4014, dtype: int64"
      ]
     },
     "execution_count": 56,
     "metadata": {},
     "output_type": "execute_result"
    }
   ],
   "source": [
    "pd.to_datetime(stocks_['Date Joined']).dt.month"
   ]
  },
  {
   "cell_type": "code",
   "execution_count": 57,
   "id": "1a4a414b-ec11-4ab0-8335-dca8793f9377",
   "metadata": {
    "scrolled": true
   },
   "outputs": [
    {
     "name": "stderr",
     "output_type": "stream",
     "text": [
      "<ipython-input-57-7190f053bef8>:1: FutureWarning: Series.dt.weekofyear and Series.dt.week have been deprecated.  Please use Series.dt.isocalendar().week instead.\n",
      "  pd.to_datetime(stocks_['Date Joined']).dt.week\n"
     ]
    },
    {
     "data": {
      "text/plain": [
       "0        2\n",
       "1        2\n",
       "2        2\n",
       "3        2\n",
       "4        2\n",
       "        ..\n",
       "4009    53\n",
       "4010    53\n",
       "4011    53\n",
       "4012    53\n",
       "4013    53\n",
       "Name: Date Joined, Length: 4014, dtype: int64"
      ]
     },
     "execution_count": 57,
     "metadata": {},
     "output_type": "execute_result"
    }
   ],
   "source": [
    "pd.to_datetime(stocks_['Date Joined']).dt.week"
   ]
  },
  {
   "cell_type": "code",
   "execution_count": 58,
   "id": "1761c485-bee1-4efb-a275-3f8628945e23",
   "metadata": {
    "scrolled": true
   },
   "outputs": [
    {
     "data": {
      "text/plain": [
       "0        January 2015\n",
       "1        January 2015\n",
       "2        January 2015\n",
       "3        January 2015\n",
       "4        January 2015\n",
       "            ...      \n",
       "4009    December 2015\n",
       "4010    December 2015\n",
       "4011    December 2015\n",
       "4012    December 2015\n",
       "4013    December 2015\n",
       "Name: Date Joined, Length: 4014, dtype: object"
      ]
     },
     "execution_count": 58,
     "metadata": {},
     "output_type": "execute_result"
    }
   ],
   "source": [
    "pd.to_datetime(stocks_['Date Joined']).dt.strftime('%B %Y')"
   ]
  },
  {
   "cell_type": "code",
   "execution_count": 59,
   "id": "f2c1f93a-1cf1-43a5-bc49-b2f3cf9b6f5e",
   "metadata": {
    "scrolled": true
   },
   "outputs": [
    {
     "data": {
      "text/plain": [
       "datetime.timedelta(days=1751)"
      ]
     },
     "execution_count": 59,
     "metadata": {},
     "output_type": "execute_result"
    }
   ],
   "source": [
    "dta.date(2022,1,23)-dta.date(2017,4,8)"
   ]
  },
  {
   "cell_type": "code",
   "execution_count": null,
   "id": "b3fcfa1a-f8aa-4f41-b3a9-dd28361e2419",
   "metadata": {
    "scrolled": true
   },
   "outputs": [],
   "source": []
  },
  {
   "cell_type": "code",
   "execution_count": 60,
   "id": "b350ea6f-3a14-4318-a46f-00fd837f7a79",
   "metadata": {
    "scrolled": true
   },
   "outputs": [
    {
     "data": {
      "text/plain": [
       "datetime.datetime(2022, 1, 23, 21, 58, 44, 522892)"
      ]
     },
     "execution_count": 60,
     "metadata": {},
     "output_type": "execute_result"
    }
   ],
   "source": [
    "dta.datetime.today()"
   ]
  },
  {
   "cell_type": "code",
   "execution_count": 42,
   "id": "348843f6-7ee9-456f-ac15-f274fd21bbf9",
   "metadata": {
    "scrolled": true
   },
   "outputs": [],
   "source": [
    "stocks_.set_index(['Date Joined'], inplace= True)"
   ]
  },
  {
   "cell_type": "code",
   "execution_count": 74,
   "id": "5c65f5ed-d6e0-4b70-9671-acb68a58d3a6",
   "metadata": {},
   "outputs": [],
   "source": [
    "stocks_['Date Joined']= pd.to_datetime(stocks_['Date Joined'])"
   ]
  },
  {
   "cell_type": "code",
   "execution_count": 75,
   "id": "e05de155-cf54-4091-b9f5-46c50d460f6b",
   "metadata": {
    "scrolled": true
   },
   "outputs": [
    {
     "data": {
      "text/html": [
       "<div>\n",
       "<style scoped>\n",
       "    .dataframe tbody tr th:only-of-type {\n",
       "        vertical-align: middle;\n",
       "    }\n",
       "\n",
       "    .dataframe tbody tr th {\n",
       "        vertical-align: top;\n",
       "    }\n",
       "\n",
       "    .dataframe thead th {\n",
       "        text-align: right;\n",
       "    }\n",
       "</style>\n",
       "<table border=\"1\" class=\"dataframe\">\n",
       "  <thead>\n",
       "    <tr style=\"text-align: right;\">\n",
       "      <th></th>\n",
       "      <th>Customer ID</th>\n",
       "      <th>Surname</th>\n",
       "      <th>Gender</th>\n",
       "      <th>Age</th>\n",
       "      <th>Region</th>\n",
       "      <th>Job Classification</th>\n",
       "      <th>Date Joined</th>\n",
       "      <th>Balance</th>\n",
       "    </tr>\n",
       "    <tr>\n",
       "      <th>Name</th>\n",
       "      <th></th>\n",
       "      <th></th>\n",
       "      <th></th>\n",
       "      <th></th>\n",
       "      <th></th>\n",
       "      <th></th>\n",
       "      <th></th>\n",
       "      <th></th>\n",
       "    </tr>\n",
       "  </thead>\n",
       "  <tbody>\n",
       "    <tr>\n",
       "      <th>Abigail</th>\n",
       "      <td>400003443</td>\n",
       "      <td>Wright</td>\n",
       "      <td>Female</td>\n",
       "      <td>64</td>\n",
       "      <td>Wales</td>\n",
       "      <td>White Collar</td>\n",
       "      <td>2015-12-23</td>\n",
       "      <td>99557.72</td>\n",
       "    </tr>\n",
       "    <tr>\n",
       "      <th>Adam</th>\n",
       "      <td>400002151</td>\n",
       "      <td>Wilson</td>\n",
       "      <td>Male</td>\n",
       "      <td>61</td>\n",
       "      <td>Wales</td>\n",
       "      <td>White Collar</td>\n",
       "      <td>2015-12-18</td>\n",
       "      <td>124232.17</td>\n",
       "    </tr>\n",
       "    <tr>\n",
       "      <th>Adrian</th>\n",
       "      <td>400002569</td>\n",
       "      <td>Wright</td>\n",
       "      <td>Male</td>\n",
       "      <td>55</td>\n",
       "      <td>Wales</td>\n",
       "      <td>White Collar</td>\n",
       "      <td>2015-12-13</td>\n",
       "      <td>94767.31</td>\n",
       "    </tr>\n",
       "    <tr>\n",
       "      <th>Alan</th>\n",
       "      <td>300001843</td>\n",
       "      <td>Wright</td>\n",
       "      <td>Male</td>\n",
       "      <td>64</td>\n",
       "      <td>Wales</td>\n",
       "      <td>White Collar</td>\n",
       "      <td>2015-12-03</td>\n",
       "      <td>133630.50</td>\n",
       "    </tr>\n",
       "    <tr>\n",
       "      <th>Alberto</th>\n",
       "      <td>100003789</td>\n",
       "      <td>Mathis</td>\n",
       "      <td>Male</td>\n",
       "      <td>33</td>\n",
       "      <td>England</td>\n",
       "      <td>White Collar</td>\n",
       "      <td>2015-12-17</td>\n",
       "      <td>69416.18</td>\n",
       "    </tr>\n",
       "    <tr>\n",
       "      <th>...</th>\n",
       "      <td>...</td>\n",
       "      <td>...</td>\n",
       "      <td>...</td>\n",
       "      <td>...</td>\n",
       "      <td>...</td>\n",
       "      <td>...</td>\n",
       "      <td>...</td>\n",
       "      <td>...</td>\n",
       "    </tr>\n",
       "    <tr>\n",
       "      <th>Warren</th>\n",
       "      <td>300002728</td>\n",
       "      <td>Walker</td>\n",
       "      <td>Male</td>\n",
       "      <td>62</td>\n",
       "      <td>Wales</td>\n",
       "      <td>White Collar</td>\n",
       "      <td>2015-12-07</td>\n",
       "      <td>128488.01</td>\n",
       "    </tr>\n",
       "    <tr>\n",
       "      <th>Wendy</th>\n",
       "      <td>400001981</td>\n",
       "      <td>Watson</td>\n",
       "      <td>Female</td>\n",
       "      <td>57</td>\n",
       "      <td>Wales</td>\n",
       "      <td>White Collar</td>\n",
       "      <td>2015-12-23</td>\n",
       "      <td>76608.60</td>\n",
       "    </tr>\n",
       "    <tr>\n",
       "      <th>William</th>\n",
       "      <td>400000720</td>\n",
       "      <td>Wilkins</td>\n",
       "      <td>Male</td>\n",
       "      <td>61</td>\n",
       "      <td>Wales</td>\n",
       "      <td>White Collar</td>\n",
       "      <td>2015-12-23</td>\n",
       "      <td>118379.33</td>\n",
       "    </tr>\n",
       "    <tr>\n",
       "      <th>Yvonne</th>\n",
       "      <td>400003009</td>\n",
       "      <td>Wilson</td>\n",
       "      <td>Female</td>\n",
       "      <td>64</td>\n",
       "      <td>Wales</td>\n",
       "      <td>White Collar</td>\n",
       "      <td>2015-12-23</td>\n",
       "      <td>111371.69</td>\n",
       "    </tr>\n",
       "    <tr>\n",
       "      <th>Zoe</th>\n",
       "      <td>400002585</td>\n",
       "      <td>Young</td>\n",
       "      <td>Female</td>\n",
       "      <td>60</td>\n",
       "      <td>Wales</td>\n",
       "      <td>White Collar</td>\n",
       "      <td>2015-11-30</td>\n",
       "      <td>92941.82</td>\n",
       "    </tr>\n",
       "  </tbody>\n",
       "</table>\n",
       "<p>172 rows × 8 columns</p>\n",
       "</div>"
      ],
      "text/plain": [
       "         Customer ID  Surname  Gender  Age   Region Job Classification  \\\n",
       "Name                                                                     \n",
       "Abigail    400003443   Wright  Female   64    Wales       White Collar   \n",
       "Adam       400002151   Wilson    Male   61    Wales       White Collar   \n",
       "Adrian     400002569   Wright    Male   55    Wales       White Collar   \n",
       "Alan       300001843   Wright    Male   64    Wales       White Collar   \n",
       "Alberto    100003789   Mathis    Male   33  England       White Collar   \n",
       "...              ...      ...     ...  ...      ...                ...   \n",
       "Warren     300002728   Walker    Male   62    Wales       White Collar   \n",
       "Wendy      400001981   Watson  Female   57    Wales       White Collar   \n",
       "William    400000720  Wilkins    Male   61    Wales       White Collar   \n",
       "Yvonne     400003009   Wilson  Female   64    Wales       White Collar   \n",
       "Zoe        400002585    Young  Female   60    Wales       White Collar   \n",
       "\n",
       "        Date Joined    Balance  \n",
       "Name                            \n",
       "Abigail  2015-12-23   99557.72  \n",
       "Adam     2015-12-18  124232.17  \n",
       "Adrian   2015-12-13   94767.31  \n",
       "Alan     2015-12-03  133630.50  \n",
       "Alberto  2015-12-17   69416.18  \n",
       "...             ...        ...  \n",
       "Warren   2015-12-07  128488.01  \n",
       "Wendy    2015-12-23   76608.60  \n",
       "William  2015-12-23  118379.33  \n",
       "Yvonne   2015-12-23  111371.69  \n",
       "Zoe      2015-11-30   92941.82  \n",
       "\n",
       "[172 rows x 8 columns]"
      ]
     },
     "execution_count": 75,
     "metadata": {},
     "output_type": "execute_result"
    }
   ],
   "source": [
    "stocks_.groupby('Name').max()"
   ]
  },
  {
   "cell_type": "code",
   "execution_count": 80,
   "id": "d275ad83-65c2-46de-9b05-1921375a129c",
   "metadata": {},
   "outputs": [
    {
     "data": {
      "text/plain": [
       "Name\n",
       "Abigail    7 days\n",
       "Adam      12 days\n",
       "Adrian    17 days\n",
       "Alan      27 days\n",
       "Alberto   13 days\n",
       "            ...  \n",
       "Warren    23 days\n",
       "Wendy      7 days\n",
       "William    7 days\n",
       "Yvonne     7 days\n",
       "Zoe       30 days\n",
       "Name: Date Joined, Length: 172, dtype: timedelta64[ns]"
      ]
     },
     "execution_count": 80,
     "metadata": {},
     "output_type": "execute_result"
    }
   ],
   "source": [
    "stocks_['Date Joined'].max()- stocks_.groupby('Name')['Date Joined'].max()"
   ]
  },
  {
   "cell_type": "code",
   "execution_count": 78,
   "id": "ba54b24b-a388-4e0d-8747-c5322883449d",
   "metadata": {
    "scrolled": true,
    "tags": []
   },
   "outputs": [
    {
     "data": {
      "text/html": [
       "<div>\n",
       "<style scoped>\n",
       "    .dataframe tbody tr th:only-of-type {\n",
       "        vertical-align: middle;\n",
       "    }\n",
       "\n",
       "    .dataframe tbody tr th {\n",
       "        vertical-align: top;\n",
       "    }\n",
       "\n",
       "    .dataframe thead th {\n",
       "        text-align: right;\n",
       "    }\n",
       "</style>\n",
       "<table border=\"1\" class=\"dataframe\">\n",
       "  <thead>\n",
       "    <tr style=\"text-align: right;\">\n",
       "      <th></th>\n",
       "      <th>Customer ID</th>\n",
       "      <th>Name</th>\n",
       "      <th>Surname</th>\n",
       "      <th>Gender</th>\n",
       "      <th>Age</th>\n",
       "      <th>Region</th>\n",
       "      <th>Job Classification</th>\n",
       "      <th>Date Joined</th>\n",
       "      <th>Balance</th>\n",
       "    </tr>\n",
       "  </thead>\n",
       "  <tbody>\n",
       "    <tr>\n",
       "      <th>0</th>\n",
       "      <td>100000001</td>\n",
       "      <td>Simon</td>\n",
       "      <td>Walsh</td>\n",
       "      <td>Male</td>\n",
       "      <td>21</td>\n",
       "      <td>England</td>\n",
       "      <td>White Collar</td>\n",
       "      <td>2015-01-05</td>\n",
       "      <td>113810.15</td>\n",
       "    </tr>\n",
       "    <tr>\n",
       "      <th>1</th>\n",
       "      <td>400000002</td>\n",
       "      <td>Jasmine</td>\n",
       "      <td>Miller</td>\n",
       "      <td>Female</td>\n",
       "      <td>34</td>\n",
       "      <td>Northern Ireland</td>\n",
       "      <td>Blue Collar</td>\n",
       "      <td>2015-01-06</td>\n",
       "      <td>36919.73</td>\n",
       "    </tr>\n",
       "    <tr>\n",
       "      <th>2</th>\n",
       "      <td>100000003</td>\n",
       "      <td>Liam</td>\n",
       "      <td>Brown</td>\n",
       "      <td>Male</td>\n",
       "      <td>46</td>\n",
       "      <td>England</td>\n",
       "      <td>White Collar</td>\n",
       "      <td>2015-01-07</td>\n",
       "      <td>101536.83</td>\n",
       "    </tr>\n",
       "    <tr>\n",
       "      <th>3</th>\n",
       "      <td>300000004</td>\n",
       "      <td>Trevor</td>\n",
       "      <td>Parr</td>\n",
       "      <td>Male</td>\n",
       "      <td>32</td>\n",
       "      <td>Wales</td>\n",
       "      <td>White Collar</td>\n",
       "      <td>2015-01-08</td>\n",
       "      <td>1421.52</td>\n",
       "    </tr>\n",
       "    <tr>\n",
       "      <th>4</th>\n",
       "      <td>100000005</td>\n",
       "      <td>Deirdre</td>\n",
       "      <td>Pullman</td>\n",
       "      <td>Female</td>\n",
       "      <td>38</td>\n",
       "      <td>England</td>\n",
       "      <td>Blue Collar</td>\n",
       "      <td>2015-01-09</td>\n",
       "      <td>35639.79</td>\n",
       "    </tr>\n",
       "    <tr>\n",
       "      <th>...</th>\n",
       "      <td>...</td>\n",
       "      <td>...</td>\n",
       "      <td>...</td>\n",
       "      <td>...</td>\n",
       "      <td>...</td>\n",
       "      <td>...</td>\n",
       "      <td>...</td>\n",
       "      <td>...</td>\n",
       "      <td>...</td>\n",
       "    </tr>\n",
       "    <tr>\n",
       "      <th>4009</th>\n",
       "      <td>200004010</td>\n",
       "      <td>Sam</td>\n",
       "      <td>Lewis</td>\n",
       "      <td>Male</td>\n",
       "      <td>64</td>\n",
       "      <td>Scotland</td>\n",
       "      <td>Other</td>\n",
       "      <td>2015-12-30</td>\n",
       "      <td>19711.66</td>\n",
       "    </tr>\n",
       "    <tr>\n",
       "      <th>4010</th>\n",
       "      <td>200004011</td>\n",
       "      <td>Keith</td>\n",
       "      <td>Hughes</td>\n",
       "      <td>Male</td>\n",
       "      <td>52</td>\n",
       "      <td>Scotland</td>\n",
       "      <td>Blue Collar</td>\n",
       "      <td>2015-12-30</td>\n",
       "      <td>56069.72</td>\n",
       "    </tr>\n",
       "    <tr>\n",
       "      <th>4011</th>\n",
       "      <td>200004012</td>\n",
       "      <td>Hannah</td>\n",
       "      <td>Springer</td>\n",
       "      <td>Female</td>\n",
       "      <td>50</td>\n",
       "      <td>Scotland</td>\n",
       "      <td>Other</td>\n",
       "      <td>2015-12-30</td>\n",
       "      <td>59477.82</td>\n",
       "    </tr>\n",
       "    <tr>\n",
       "      <th>4012</th>\n",
       "      <td>200004013</td>\n",
       "      <td>Christian</td>\n",
       "      <td>Reid</td>\n",
       "      <td>Male</td>\n",
       "      <td>51</td>\n",
       "      <td>Scotland</td>\n",
       "      <td>Blue Collar</td>\n",
       "      <td>2015-12-30</td>\n",
       "      <td>239.45</td>\n",
       "    </tr>\n",
       "    <tr>\n",
       "      <th>4013</th>\n",
       "      <td>300004014</td>\n",
       "      <td>Stephen</td>\n",
       "      <td>May</td>\n",
       "      <td>Male</td>\n",
       "      <td>33</td>\n",
       "      <td>Wales</td>\n",
       "      <td>Blue Collar</td>\n",
       "      <td>2015-12-30</td>\n",
       "      <td>30293.19</td>\n",
       "    </tr>\n",
       "  </tbody>\n",
       "</table>\n",
       "<p>4014 rows × 9 columns</p>\n",
       "</div>"
      ],
      "text/plain": [
       "      Customer ID       Name   Surname  Gender  Age            Region  \\\n",
       "0       100000001      Simon     Walsh    Male   21           England   \n",
       "1       400000002    Jasmine    Miller  Female   34  Northern Ireland   \n",
       "2       100000003       Liam     Brown    Male   46           England   \n",
       "3       300000004     Trevor      Parr    Male   32             Wales   \n",
       "4       100000005    Deirdre   Pullman  Female   38           England   \n",
       "...           ...        ...       ...     ...  ...               ...   \n",
       "4009    200004010        Sam     Lewis    Male   64          Scotland   \n",
       "4010    200004011      Keith    Hughes    Male   52          Scotland   \n",
       "4011    200004012     Hannah  Springer  Female   50          Scotland   \n",
       "4012    200004013  Christian      Reid    Male   51          Scotland   \n",
       "4013    300004014    Stephen       May    Male   33             Wales   \n",
       "\n",
       "     Job Classification Date Joined    Balance  \n",
       "0          White Collar  2015-01-05  113810.15  \n",
       "1           Blue Collar  2015-01-06   36919.73  \n",
       "2          White Collar  2015-01-07  101536.83  \n",
       "3          White Collar  2015-01-08    1421.52  \n",
       "4           Blue Collar  2015-01-09   35639.79  \n",
       "...                 ...         ...        ...  \n",
       "4009              Other  2015-12-30   19711.66  \n",
       "4010        Blue Collar  2015-12-30   56069.72  \n",
       "4011              Other  2015-12-30   59477.82  \n",
       "4012        Blue Collar  2015-12-30     239.45  \n",
       "4013        Blue Collar  2015-12-30   30293.19  \n",
       "\n",
       "[4014 rows x 9 columns]"
      ]
     },
     "execution_count": 78,
     "metadata": {},
     "output_type": "execute_result"
    }
   ],
   "source": [
    "stocks_"
   ]
  },
  {
   "cell_type": "code",
   "execution_count": 72,
   "id": "6ffdac08-25ca-4a7c-94a4-cf6c5ddf2d69",
   "metadata": {
    "scrolled": true
   },
   "outputs": [],
   "source": [
    "str1= \"31.Jul.15\"\n",
    "str2= \"31.Aug.14\""
   ]
  },
  {
   "cell_type": "code",
   "execution_count": 73,
   "id": "a76631ec-6acc-4085-bf96-9573363836f4",
   "metadata": {},
   "outputs": [
    {
     "data": {
      "text/plain": [
       "False"
      ]
     },
     "execution_count": 73,
     "metadata": {},
     "output_type": "execute_result"
    }
   ],
   "source": [
    "str2>str1"
   ]
  },
  {
   "cell_type": "code",
   "execution_count": 81,
   "id": "ea1a3002-0363-4bce-be65-c0414a8ba3f9",
   "metadata": {},
   "outputs": [],
   "source": [
    "import matplotlib.pyplot as plt"
   ]
  },
  {
   "cell_type": "code",
   "execution_count": 83,
   "id": "3efc05b8-5d1a-430b-bd3b-62972557bde1",
   "metadata": {},
   "outputs": [
    {
     "data": {
      "text/plain": [
       "pandas.core.series.Series"
      ]
     },
     "execution_count": 83,
     "metadata": {},
     "output_type": "execute_result"
    }
   ],
   "source": [
    "type(stocks_['Date Joined'].max()- stocks_.groupby('Name')['Date Joined'].max())"
   ]
  },
  {
   "cell_type": "code",
   "execution_count": 117,
   "id": "490bf4bb-45ed-4fe6-9368-e664ebc3cdec",
   "metadata": {},
   "outputs": [
    {
     "data": {
      "text/plain": [
       "Name\n",
       "Abigail     7\n",
       "Adam       12\n",
       "Adrian     17\n",
       "Alan       27\n",
       "Alberto    13\n",
       "           ..\n",
       "Warren     23\n",
       "Wendy       7\n",
       "William     7\n",
       "Yvonne      7\n",
       "Zoe        30\n",
       "Name: days, Length: 172, dtype: int64"
      ]
     },
     "execution_count": 117,
     "metadata": {},
     "output_type": "execute_result"
    }
   ],
   "source": [
    "(stocks_['Date Joined'].max()- stocks_.groupby('Name')['Date Joined'].max()).dt.components.days"
   ]
  },
  {
   "cell_type": "code",
   "execution_count": 118,
   "id": "ec8a1805-4795-4565-b89c-c89976f08e93",
   "metadata": {},
   "outputs": [
    {
     "data": {
      "text/plain": [
       "(array([54., 49., 31., 14.,  8.,  8.,  5.,  0.,  1.,  2.]),\n",
       " array([ 0. ,  4.8,  9.6, 14.4, 19.2, 24. , 28.8, 33.6, 38.4, 43.2, 48. ]),\n",
       " <BarContainer object of 10 artists>)"
      ]
     },
     "execution_count": 118,
     "metadata": {},
     "output_type": "execute_result"
    },
    {
     "data": {
      "image/png": "[encoded data removed]",
      "text/plain": [
       "<Figure size 432x288 with 1 Axes>"
      ]
     },
     "metadata": {
      "needs_background": "light"
     },
     "output_type": "display_data"
    }
   ],
   "source": [
    "plt.hist((stocks_['Date Joined'].max()- stocks_.groupby('Name')['Date Joined'].max()).dt.components.days)"
   ]
  },
  {
   "cell_type": "code",
   "execution_count": 92,
   "id": "b2d3f12f-e8b9-4850-bf5f-4959044599d4",
   "metadata": {},
   "outputs": [],
   "source": [
    "ff=(stocks_['Date Joined'].max()- stocks_.groupby('Name')['Date Joined'].max())"
   ]
  },
  {
   "cell_type": "code",
   "execution_count": 106,
   "id": "e0fdf966-630f-40e2-95d4-7874be0c8fb3",
   "metadata": {},
   "outputs": [],
   "source": [
    "vals=(ff.values)/(10**9*60*60*24)"
   ]
  },
  {
   "cell_type": "code",
   "execution_count": 114,
   "id": "d328327b-aa66-4fd8-89c4-80a25f2bd3ed",
   "metadata": {},
   "outputs": [
    {
     "data": {
      "text/plain": [
       "(172,)"
      ]
     },
     "execution_count": 114,
     "metadata": {},
     "output_type": "execute_result"
    }
   ],
   "source": [
    "vals.shape"
   ]
  },
  {
   "cell_type": "code",
   "execution_count": null,
   "id": "645eba34-b9e8-4e96-9fbe-86a5082dcf2b",
   "metadata": {},
   "outputs": [],
   "source": []
  },
  {
   "cell_type": "code",
   "execution_count": 133,
   "id": "da6768c9-c8cd-47ec-b3e0-8943002d34e0",
   "metadata": {},
   "outputs": [],
   "source": [
    "stocks_['Last Date']=stocks_.shift(1)['Date Joined']"
   ]
  },
  {
   "cell_type": "code",
   "execution_count": null,
   "id": "a25a3f4d-4f73-4a38-a5b8-1c554ca0460c",
   "metadata": {},
   "outputs": [],
   "source": []
  },
  {
   "cell_type": "code",
   "execution_count": 148,
   "id": "f4d45272-eb29-4ea7-b1ca-4286a484cfcf",
   "metadata": {},
   "outputs": [],
   "source": [
    "aa=stocks_.groupby([ 'Customer ID', 'Date Joined'], as_index=False).count()"
   ]
  },
  {
   "cell_type": "code",
   "execution_count": 151,
   "id": "8507e7ff-349c-452e-80b5-123278b67d23",
   "metadata": {},
   "outputs": [],
   "source": [
    "bb=aa.loc[:,[ 'Customer ID','Date Joined']]"
   ]
  },
  {
   "cell_type": "code",
   "execution_count": 156,
   "id": "b01db020-b22a-4218-9421-8559c8185b93",
   "metadata": {},
   "outputs": [],
   "source": [
    "bb['Previos Recorded Date']= bb.shift(1)['Date Joined']"
   ]
  },
  {
   "cell_type": "code",
   "execution_count": 157,
   "id": "5572ea4c-d89b-43cd-bd5f-9d0b6eb1a294",
   "metadata": {},
   "outputs": [
    {
     "data": {
      "text/plain": [
       "4014"
      ]
     },
     "execution_count": 157,
     "metadata": {},
     "output_type": "execute_result"
    }
   ],
   "source": [
    "stocks['Customer ID'].nunique()"
   ]
  },
  {
   "cell_type": "code",
   "execution_count": 158,
   "id": "948e9c45-6388-432b-87d4-40082f09d04c",
   "metadata": {},
   "outputs": [
    {
     "data": {
      "text/html": [
       "<div>\n",
       "<style scoped>\n",
       "    .dataframe tbody tr th:only-of-type {\n",
       "        vertical-align: middle;\n",
       "    }\n",
       "\n",
       "    .dataframe tbody tr th {\n",
       "        vertical-align: top;\n",
       "    }\n",
       "\n",
       "    .dataframe thead th {\n",
       "        text-align: right;\n",
       "    }\n",
       "</style>\n",
       "<table border=\"1\" class=\"dataframe\">\n",
       "  <thead>\n",
       "    <tr style=\"text-align: right;\">\n",
       "      <th></th>\n",
       "      <th>Customer ID</th>\n",
       "      <th>Date Joined</th>\n",
       "      <th>Previos Recorded Date</th>\n",
       "    </tr>\n",
       "  </thead>\n",
       "  <tbody>\n",
       "    <tr>\n",
       "      <th>0</th>\n",
       "      <td>100000001</td>\n",
       "      <td>2015-01-05</td>\n",
       "      <td>NaT</td>\n",
       "    </tr>\n",
       "    <tr>\n",
       "      <th>1</th>\n",
       "      <td>100000003</td>\n",
       "      <td>2015-01-07</td>\n",
       "      <td>2015-01-05</td>\n",
       "    </tr>\n",
       "    <tr>\n",
       "      <th>2</th>\n",
       "      <td>100000005</td>\n",
       "      <td>2015-01-09</td>\n",
       "      <td>2015-01-07</td>\n",
       "    </tr>\n",
       "    <tr>\n",
       "      <th>3</th>\n",
       "      <td>100000007</td>\n",
       "      <td>2015-01-11</td>\n",
       "      <td>2015-01-09</td>\n",
       "    </tr>\n",
       "    <tr>\n",
       "      <th>4</th>\n",
       "      <td>100000010</td>\n",
       "      <td>2015-01-12</td>\n",
       "      <td>2015-01-11</td>\n",
       "    </tr>\n",
       "    <tr>\n",
       "      <th>...</th>\n",
       "      <td>...</td>\n",
       "      <td>...</td>\n",
       "      <td>...</td>\n",
       "    </tr>\n",
       "    <tr>\n",
       "      <th>4009</th>\n",
       "      <td>400003443</td>\n",
       "      <td>2015-11-29</td>\n",
       "      <td>2015-11-27</td>\n",
       "    </tr>\n",
       "    <tr>\n",
       "      <th>4010</th>\n",
       "      <td>400003472</td>\n",
       "      <td>2015-11-30</td>\n",
       "      <td>2015-11-29</td>\n",
       "    </tr>\n",
       "    <tr>\n",
       "      <th>4011</th>\n",
       "      <td>400003743</td>\n",
       "      <td>2015-12-15</td>\n",
       "      <td>2015-11-30</td>\n",
       "    </tr>\n",
       "    <tr>\n",
       "      <th>4012</th>\n",
       "      <td>400003847</td>\n",
       "      <td>2015-12-20</td>\n",
       "      <td>2015-12-15</td>\n",
       "    </tr>\n",
       "    <tr>\n",
       "      <th>4013</th>\n",
       "      <td>400003848</td>\n",
       "      <td>2015-12-20</td>\n",
       "      <td>2015-12-20</td>\n",
       "    </tr>\n",
       "  </tbody>\n",
       "</table>\n",
       "<p>4014 rows × 3 columns</p>\n",
       "</div>"
      ],
      "text/plain": [
       "      Customer ID Date Joined Previos Recorded Date\n",
       "0       100000001  2015-01-05                   NaT\n",
       "1       100000003  2015-01-07            2015-01-05\n",
       "2       100000005  2015-01-09            2015-01-07\n",
       "3       100000007  2015-01-11            2015-01-09\n",
       "4       100000010  2015-01-12            2015-01-11\n",
       "...           ...         ...                   ...\n",
       "4009    400003443  2015-11-29            2015-11-27\n",
       "4010    400003472  2015-11-30            2015-11-29\n",
       "4011    400003743  2015-12-15            2015-11-30\n",
       "4012    400003847  2015-12-20            2015-12-15\n",
       "4013    400003848  2015-12-20            2015-12-20\n",
       "\n",
       "[4014 rows x 3 columns]"
      ]
     },
     "execution_count": 158,
     "metadata": {},
     "output_type": "execute_result"
    }
   ],
   "source": [
    "bb"
   ]
  },
  {
   "cell_type": "code",
   "execution_count": null,
   "id": "612ae4b2-3a5c-4dc3-b209-5529a918ef1f",
   "metadata": {},
   "outputs": [],
   "source": []
  }
 ],
 "metadata": {
  "kernelspec": {
   "display_name": "Python 3",
   "language": "python",
   "name": "python3"
  },
  "language_info": {
   "codemirror_mode": {
    "name": "ipython",
    "version": 3
   },
   "file_extension": ".py",
   "mimetype": "text/x-python",
   "name": "python",
   "nbconvert_exporter": "python",
   "pygments_lexer": "ipython3",
   "version": "3.8.5"
  }
 },
 "nbformat": 4,
 "nbformat_minor": 5
}
